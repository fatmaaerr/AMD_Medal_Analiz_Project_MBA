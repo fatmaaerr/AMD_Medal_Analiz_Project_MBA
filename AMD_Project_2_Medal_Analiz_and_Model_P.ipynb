{
  "cells": [
    {
      "cell_type": "markdown",
      "metadata": {
        "id": "view-in-github",
        "colab_type": "text"
      },
      "source": [
        "<a href=\"https://colab.research.google.com/github/fatmaaerr/AMD_Medal_Analiz_Project_MBA/blob/main/AMD_Project_2_Medal_Analiz_and_Model_P.ipynb\" target=\"_parent\"><img src=\"https://colab.research.google.com/assets/colab-badge.svg\" alt=\"Open In Colab\"/></a>"
      ]
    },
    {
      "cell_type": "code",
      "execution_count": null,
      "metadata": {
        "id": "3Z7kFHbAd59G"
      },
      "outputs": [],
      "source": []
    },
    {
      "cell_type": "markdown",
      "metadata": {
        "id": "xGKAJ3ZyeA7z"
      },
      "source": [
        "<br>\n",
        "\n",
        "# **Market Basket Analysis**\n",
        "\n",
        "\n",
        "---\n",
        "<br>\n",
        "\n",
        "## Algorithm for Massive Datasets Project\n",
        "\n",
        "### University of Milan\n",
        "### Data Science and Economics\n",
        "\n",
        "\n",
        "## **Author**: Fatma ER\n",
        "\n",
        "## Student's ID: 967585"
      ]
    },
    {
      "cell_type": "markdown",
      "metadata": {
        "id": "Scv48FHAeHfn"
      },
      "source": [
        "<br>\n",
        "<br>\n",
        "\n",
        "<hr>\n",
        "\n",
        "## Project 2: Market-Basket Analysis\n",
        "\n",
        "The task is to implement a system finding frequent itemsets (aka market-basket analysis), analyzing one of the two datasets described below.\n",
        "Medal. <br> «<a href=\"https://www.kaggle.com/datasets/xhlulu/medal-emnlpt\" >MeDAL Dataset dataset is published on Kaggle</a>.\n",
        "\n",
        "The detector must consider as baskets the strings contained in the text column of the  full-data.csv file in the dataset, using words as items.\n",
        "\n",
        "<br>\n",
        "<br>"
      ]
    },
    {
      "cell_type": "markdown",
      "metadata": {
        "id": "1CW1X3zteeq1"
      },
      "source": [
        "<hr>\n",
        "\n",
        "<br>\n",
        "<br>\n",
        "\n",
        "# **Dataset download using Kaggle API**\n",
        "\n",
        "<br>"
      ]
    },
    {
      "cell_type": "code",
      "execution_count": null,
      "metadata": {
        "colab": {
          "base_uri": "https://localhost:8080/"
        },
        "id": "PAYDBGF7W0GV",
        "outputId": "cf4fc805-0ae2-49e2-e3ab-463b9e11d0cc"
      },
      "outputs": [
        {
          "output_type": "stream",
          "name": "stdout",
          "text": [
            "Looking in indexes: https://pypi.org/simple, https://us-python.pkg.dev/colab-wheels/public/simple/\n",
            "Requirement already satisfied: kaggle in /usr/local/lib/python3.8/dist-packages (1.5.12)\n",
            "Collecting spark-nlp==3.4.2\n",
            "  Downloading spark_nlp-3.4.2-py2.py3-none-any.whl (142 kB)\n",
            "\u001b[2K     \u001b[90m━━━━━━━━━━━━━━━━━━━━━━━━━━━━━━━━━━━━━━━\u001b[0m \u001b[32m142.7/142.7 KB\u001b[0m \u001b[31m3.7 MB/s\u001b[0m eta \u001b[36m0:00:00\u001b[0m\n",
            "\u001b[?25hCollecting pyspark==3.2.0\n",
            "  Downloading pyspark-3.2.0.tar.gz (281.3 MB)\n",
            "\u001b[2K     \u001b[90m━━━━━━━━━━━━━━━━━━━━━━━━━━━━━━━━━━━━━━━\u001b[0m \u001b[32m281.3/281.3 MB\u001b[0m \u001b[31m3.0 MB/s\u001b[0m eta \u001b[36m0:00:00\u001b[0m\n",
            "\u001b[?25h  Preparing metadata (setup.py) ... \u001b[?25l\u001b[?25hdone\n",
            "Collecting ipython-autotime\n",
            "  Downloading ipython_autotime-0.3.1-py2.py3-none-any.whl (6.8 kB)\n",
            "Collecting py4j==0.10.9.2\n",
            "  Downloading py4j-0.10.9.2-py2.py3-none-any.whl (198 kB)\n",
            "\u001b[2K     \u001b[90m━━━━━━━━━━━━━━━━━━━━━━━━━━━━━━━━━━━━━━\u001b[0m \u001b[32m198.8/198.8 KB\u001b[0m \u001b[31m23.0 MB/s\u001b[0m eta \u001b[36m0:00:00\u001b[0m\n",
            "\u001b[?25hRequirement already satisfied: python-dateutil in /usr/local/lib/python3.8/dist-packages (from kaggle) (2.8.2)\n",
            "Requirement already satisfied: certifi in /usr/local/lib/python3.8/dist-packages (from kaggle) (2022.12.7)\n",
            "Requirement already satisfied: requests in /usr/local/lib/python3.8/dist-packages (from kaggle) (2.25.1)\n",
            "Requirement already satisfied: tqdm in /usr/local/lib/python3.8/dist-packages (from kaggle) (4.64.1)\n",
            "Requirement already satisfied: python-slugify in /usr/local/lib/python3.8/dist-packages (from kaggle) (8.0.1)\n",
            "Requirement already satisfied: six>=1.10 in /usr/local/lib/python3.8/dist-packages (from kaggle) (1.15.0)\n",
            "Requirement already satisfied: urllib3 in /usr/local/lib/python3.8/dist-packages (from kaggle) (1.26.14)\n",
            "Requirement already satisfied: ipython in /usr/local/lib/python3.8/dist-packages (from ipython-autotime) (7.9.0)\n",
            "Collecting jedi>=0.10\n",
            "  Downloading jedi-0.18.2-py2.py3-none-any.whl (1.6 MB)\n",
            "\u001b[2K     \u001b[90m━━━━━━━━━━━━━━━━━━━━━━━━━━━━━━━━━━━━━━━━\u001b[0m \u001b[32m1.6/1.6 MB\u001b[0m \u001b[31m67.4 MB/s\u001b[0m eta \u001b[36m0:00:00\u001b[0m\n",
            "\u001b[?25hRequirement already satisfied: decorator in /usr/local/lib/python3.8/dist-packages (from ipython->ipython-autotime) (4.4.2)\n",
            "Requirement already satisfied: pygments in /usr/local/lib/python3.8/dist-packages (from ipython->ipython-autotime) (2.6.1)\n",
            "Requirement already satisfied: pickleshare in /usr/local/lib/python3.8/dist-packages (from ipython->ipython-autotime) (0.7.5)\n",
            "Requirement already satisfied: setuptools>=18.5 in /usr/local/lib/python3.8/dist-packages (from ipython->ipython-autotime) (57.4.0)\n",
            "Requirement already satisfied: pexpect in /usr/local/lib/python3.8/dist-packages (from ipython->ipython-autotime) (4.8.0)\n",
            "Requirement already satisfied: backcall in /usr/local/lib/python3.8/dist-packages (from ipython->ipython-autotime) (0.2.0)\n",
            "Requirement already satisfied: traitlets>=4.2 in /usr/local/lib/python3.8/dist-packages (from ipython->ipython-autotime) (5.7.1)\n",
            "Requirement already satisfied: prompt-toolkit<2.1.0,>=2.0.0 in /usr/local/lib/python3.8/dist-packages (from ipython->ipython-autotime) (2.0.10)\n",
            "Requirement already satisfied: text-unidecode>=1.3 in /usr/local/lib/python3.8/dist-packages (from python-slugify->kaggle) (1.3)\n",
            "Requirement already satisfied: idna<3,>=2.5 in /usr/local/lib/python3.8/dist-packages (from requests->kaggle) (2.10)\n",
            "Requirement already satisfied: chardet<5,>=3.0.2 in /usr/local/lib/python3.8/dist-packages (from requests->kaggle) (4.0.0)\n",
            "Requirement already satisfied: parso<0.9.0,>=0.8.0 in /usr/local/lib/python3.8/dist-packages (from jedi>=0.10->ipython->ipython-autotime) (0.8.3)\n",
            "Requirement already satisfied: wcwidth in /usr/local/lib/python3.8/dist-packages (from prompt-toolkit<2.1.0,>=2.0.0->ipython->ipython-autotime) (0.2.6)\n",
            "Requirement already satisfied: ptyprocess>=0.5 in /usr/local/lib/python3.8/dist-packages (from pexpect->ipython->ipython-autotime) (0.7.0)\n",
            "Building wheels for collected packages: pyspark\n",
            "  Building wheel for pyspark (setup.py) ... \u001b[?25l\u001b[?25hdone\n",
            "  Created wheel for pyspark: filename=pyspark-3.2.0-py2.py3-none-any.whl size=281805913 sha256=5f879f603a167de157914c4a2b2692f3e1ca5fc736758fddb3dfc3bb31f81eff\n",
            "  Stored in directory: /root/.cache/pip/wheels/23/f6/d3/110e53bd43baeb8d7d38049733d48e39cbecd056f01dba7ee8\n",
            "Successfully built pyspark\n",
            "Installing collected packages: spark-nlp, py4j, pyspark, jedi, ipython-autotime\n",
            "Successfully installed ipython-autotime-0.3.1 jedi-0.18.2 py4j-0.10.9.2 pyspark-3.2.0 spark-nlp-3.4.2\n",
            "time: 996 µs (started: 2023-03-01 15:41:24 +00:00)\n"
          ]
        }
      ],
      "source": [
        "! pip install kaggle spark-nlp==3.4.2 pyspark==3.2.0 ipython-autotime\n",
        "%load_ext autotime"
      ]
    },
    {
      "cell_type": "code",
      "execution_count": null,
      "metadata": {
        "colab": {
          "base_uri": "https://localhost:8080/"
        },
        "id": "UbSjYib4XI4Y",
        "outputId": "3953f2f4-31c8-48cd-b708-31d4fad53314"
      },
      "outputs": [
        {
          "output_type": "stream",
          "name": "stdout",
          "text": [
            "time: 1min 2s (started: 2023-03-01 15:41:24 +00:00)\n"
          ]
        }
      ],
      "source": [
        "from pyspark.sql import SparkSession\n",
        "import os\n",
        "from glob import glob\n",
        "from pyspark.sql.types import FloatType\n",
        "import sparknlp\n",
        "from sparknlp.base import *\n",
        "from sparknlp.annotator import * \n",
        "import string\n",
        "from pyspark.sql import functions as F\n",
        "from pyspark.ml.fpm import FPGrowth\n",
        "import pandas as pd\n",
        "from pyspark.sql.types import IntegerType\n",
        "from pyspark.sql.functions import udf\n",
        "from itertools import combinations\n",
        "import math\n",
        "import numpy as np\n",
        "import logging\n",
        "from joblib import Parallel, delayed, cpu_count\n",
        "from collections import namedtuple\n",
        "from itertools import product\n",
        "import time\n",
        "from itertools import chain\n",
        "spark = sparknlp.start(spark32 = True)\n",
        "sc = spark.sparkContext"
      ]
    },
    {
      "cell_type": "code",
      "execution_count": null,
      "metadata": {
        "colab": {
          "base_uri": "https://localhost:8080/"
        },
        "id": "Lyiq00kGXRBd",
        "outputId": "63db21be-28bd-417b-d299-8d3a166acf5c"
      },
      "outputs": [
        {
          "output_type": "stream",
          "name": "stdout",
          "text": [
            "time: 417 ms (started: 2023-03-01 15:42:26 +00:00)\n"
          ]
        }
      ],
      "source": [
        "import matplotlib.pyplot as plt\n",
        "from tqdm import tqdm\n",
        "import csv\n",
        "import os"
      ]
    },
    {
      "cell_type": "code",
      "execution_count": null,
      "metadata": {
        "colab": {
          "base_uri": "https://localhost:8080/"
        },
        "id": "8TnsJMrGXSgm",
        "outputId": "eab8e077-74bf-4795-e3f4-28b203789a23"
      },
      "outputs": [
        {
          "output_type": "stream",
          "name": "stdout",
          "text": [
            "E: Failed to fetch http://security.ubuntu.com/ubuntu/pool/universe/o/openjdk-8/openjdk-8-jre-headless_8u352-ga-1~20.04_amd64.deb  404  Not Found [IP: 185.125.190.39 80]\n",
            "E: Failed to fetch http://security.ubuntu.com/ubuntu/pool/universe/o/openjdk-8/openjdk-8-jdk-headless_8u352-ga-1~20.04_amd64.deb  404  Not Found [IP: 185.125.190.39 80]\n",
            "E: Unable to fetch some archives, maybe run apt-get update or try with --fix-missing?\n",
            "tar: spark-3.0.3-bin-hadoop3.2.tgz: Cannot open: No such file or directory\n",
            "tar: Error is not recoverable: exiting now\n",
            "time: 12.4 s (started: 2023-03-01 15:42:27 +00:00)\n"
          ]
        }
      ],
      "source": [
        "# install Java8\n",
        "!apt-get install openjdk-8-jdk-headless -qq > /dev/null\n",
        "# download spark3.0.2\n",
        "!wget -q http://apache.osuosl.org/spark/spark-3.0.3/spark-3.0.3-bin-hadoop3.2.tgz\n",
        "\n",
        "# unzip it\n",
        "!tar xf spark-3.0.3-bin-hadoop3.2.tgz\n",
        "# install findspark \n",
        "!pip install -q findspark"
      ]
    },
    {
      "cell_type": "code",
      "execution_count": null,
      "metadata": {
        "colab": {
          "base_uri": "https://localhost:8080/"
        },
        "id": "tIuPK63YXmvx",
        "outputId": "af8e2dbb-0d28-4843-ae66-8e9d9fb12d26"
      },
      "outputs": [
        {
          "output_type": "stream",
          "name": "stdout",
          "text": [
            "time: 12.4 s (started: 2023-03-01 15:42:27 +00:00)\n"
          ]
        }
      ],
      "source": []
    },
    {
      "cell_type": "code",
      "execution_count": null,
      "metadata": {
        "colab": {
          "base_uri": "https://localhost:8080/"
        },
        "id": "2bas29UkefgI",
        "outputId": "d3410bba-9ba8-402f-e05a-117d117d4dea"
      },
      "outputs": [
        {
          "output_type": "stream",
          "name": "stdout",
          "text": [
            "time: 709 µs (started: 2023-03-01 15:42:39 +00:00)\n"
          ]
        }
      ],
      "source": [
        "#!pip install kaggle"
      ]
    },
    {
      "cell_type": "code",
      "execution_count": null,
      "metadata": {
        "colab": {
          "base_uri": "https://localhost:8080/"
        },
        "id": "bThyn4J7ej_W",
        "outputId": "dd14a35f-895e-47b8-ebdf-5edb3bc8c5c5"
      },
      "outputs": [
        {
          "output_type": "stream",
          "name": "stdout",
          "text": [
            "time: 1.74 ms (started: 2023-03-01 15:42:39 +00:00)\n"
          ]
        }
      ],
      "source": [
        "# Kaggle API to download the dataset\n",
        "import os\n",
        "kaggle_api = {\"username\":\"fatmaer\",\"key\":\"195fdbf5ac9e388a70b2497fbd2c2a4c\"}\n",
        "os.environ['KAGGLE_USERNAME'] = kaggle_api['username']\n",
        "os.environ['KAGGLE_KEY'] = kaggle_api['key']"
      ]
    },
    {
      "cell_type": "code",
      "execution_count": null,
      "metadata": {
        "colab": {
          "base_uri": "https://localhost:8080/"
        },
        "id": "gWlRsEaFenSE",
        "outputId": "56056636-4806-4bc7-9560-306c3283b929"
      },
      "outputs": [
        {
          "output_type": "stream",
          "name": "stdout",
          "text": [
            "Downloading medal-emnlp.zip to /content\n",
            "100% 6.82G/6.82G [04:22<00:00, 26.4MB/s]\n",
            "100% 6.82G/6.82G [04:22<00:00, 27.9MB/s]\n",
            "time: 4min 23s (started: 2023-03-01 15:42:39 +00:00)\n"
          ]
        }
      ],
      "source": [
        "# Kaggle authentication and download\n",
        "import kaggle\n",
        "kaggle.api.authenticate()\n",
        "!  kaggle datasets download xhlulu/medal-emnlp"
      ]
    },
    {
      "cell_type": "code",
      "execution_count": null,
      "metadata": {
        "colab": {
          "base_uri": "https://localhost:8080/"
        },
        "id": "UhVHqsiZepos",
        "outputId": "57fd2713-62eb-477a-e541-67fb656c350f"
      },
      "outputs": [
        {
          "output_type": "stream",
          "name": "stdout",
          "text": [
            "Archive:  medal-emnlp.zip\n",
            "  inflating: full_data.csv           \n",
            "  inflating: pretrain_subset/test.csv  \n",
            "  inflating: pretrain_subset/train.csv  \n",
            "  inflating: pretrain_subset/valid.csv  \n",
            "time: 4min 31s (started: 2023-03-01 15:47:03 +00:00)\n"
          ]
        }
      ],
      "source": [
        "!unzip medal-emnlp"
      ]
    },
    {
      "cell_type": "markdown",
      "metadata": {
        "id": "M_7jcrTfgFhN"
      },
      "source": [
        "**Spark Initialisation**"
      ]
    },
    {
      "cell_type": "code",
      "execution_count": null,
      "metadata": {
        "colab": {
          "base_uri": "https://localhost:8080/"
        },
        "id": "5GAxdTT2e7Fa",
        "outputId": "1c3d8960-9a14-4499-bc14-b30faae0620f"
      },
      "outputs": [
        {
          "output_type": "stream",
          "name": "stdout",
          "text": [
            "time: 1.19 ms (started: 2023-03-01 15:51:34 +00:00)\n"
          ]
        }
      ],
      "source": [
        "##!pip install pyspark\n",
        "#!apt-get install openjdk-8-jdk-headless -qq > /dev/null\n",
        "#!wget -q http://www-eu.apache.org/dist/spark/spark-2.4.5/spark-2.4.5-bin-hadoop2.7.tgz\n",
        "#!tar xf spark-2.4.5-bin-hadoop2.7.tgz\n",
        "#!pip install -q findspark"
      ]
    },
    {
      "cell_type": "code",
      "execution_count": null,
      "metadata": {
        "colab": {
          "base_uri": "https://localhost:8080/"
        },
        "id": "58BF6j9WgMp-",
        "outputId": "3b3cbe39-b968-4d79-80f4-e992ba5510bb"
      },
      "outputs": [
        {
          "output_type": "stream",
          "name": "stdout",
          "text": [
            "time: 1.24 s (started: 2023-03-01 15:51:34 +00:00)\n"
          ]
        }
      ],
      "source": [
        "from pyspark import SparkConf, SparkContext\n",
        "from pyspark.sql import SparkSession\n",
        "import seaborn as sns\n",
        "import matplotlib.pyplot as plt\n",
        "from wordcloud import WordCloud"
      ]
    },
    {
      "cell_type": "code",
      "execution_count": null,
      "metadata": {
        "colab": {
          "base_uri": "https://localhost:8080/"
        },
        "id": "EwCvrTUogf_4",
        "outputId": "d7ddd616-bee8-40d9-ff3e-c6a7c0747af0"
      },
      "outputs": [
        {
          "output_type": "stream",
          "name": "stdout",
          "text": [
            "time: 15.9 ms (started: 2023-03-01 15:51:35 +00:00)\n"
          ]
        }
      ],
      "source": [
        "spark = SparkSession.builder.enableHiveSupport().getOrCreate()"
      ]
    },
    {
      "cell_type": "code",
      "execution_count": null,
      "metadata": {
        "colab": {
          "base_uri": "https://localhost:8080/"
        },
        "id": "VhG9RBnWgjz6",
        "outputId": "bd367b41-872c-4986-fefe-8e22c00cb5f6"
      },
      "outputs": [
        {
          "output_type": "stream",
          "name": "stdout",
          "text": [
            "time: 5.29 ms (started: 2023-03-01 15:51:35 +00:00)\n"
          ]
        }
      ],
      "source": [
        "spark.conf.set(\"spark.sql.execution.arrow.pyspark.enabled\", \"true\")"
      ]
    },
    {
      "cell_type": "code",
      "execution_count": null,
      "metadata": {
        "colab": {
          "base_uri": "https://localhost:8080/"
        },
        "id": "SFPIwGcGgn_g",
        "outputId": "596c7ea9-3997-4330-f73c-82e1e7e65cfd"
      },
      "outputs": [
        {
          "output_type": "stream",
          "name": "stdout",
          "text": [
            "time: 895 µs (started: 2023-03-01 15:51:35 +00:00)\n"
          ]
        }
      ],
      "source": [
        "sc = spark.sparkContext"
      ]
    },
    {
      "cell_type": "code",
      "execution_count": null,
      "metadata": {
        "colab": {
          "base_uri": "https://localhost:8080/"
        },
        "id": "PbOfNrGogq00",
        "outputId": "fc7233c5-1fef-4241-fc4c-84593fab1655"
      },
      "outputs": [
        {
          "output_type": "stream",
          "name": "stdout",
          "text": [
            "time: 1min 38s (started: 2023-03-01 15:51:35 +00:00)\n"
          ]
        }
      ],
      "source": [
        "full_data = spark.read.csv(\"full_data.csv\", header=True, inferSchema=True)"
      ]
    },
    {
      "cell_type": "code",
      "execution_count": null,
      "metadata": {
        "colab": {
          "base_uri": "https://localhost:8080/"
        },
        "id": "743rJGhxguT_",
        "outputId": "c525dd3c-7353-4a9e-c2bf-c933a8c468c2"
      },
      "outputs": [
        {
          "output_type": "stream",
          "name": "stdout",
          "text": [
            "+--------------------+--------------------+--------------------+\n",
            "|                TEXT|            LOCATION|               LABEL|\n",
            "+--------------------+--------------------+--------------------+\n",
            "|alphabisabolol ha...|                  56|           substrate|\n",
            "|a report is given...|24|49|68|113|137|172|carcinosarcoma|re...|\n",
            "|the virostatic co...|                  55|           substrate|\n",
            "|rmi rmi and rmi a...|   25|82|127|182|222|compounds|compoun...|\n",
            "|a doubleblind stu...|22|26|28|77|90|14...|oxazepam|placebo|...|\n",
            "+--------------------+--------------------+--------------------+\n",
            "only showing top 5 rows\n",
            "\n",
            "time: 294 ms (started: 2023-03-01 15:53:14 +00:00)\n"
          ]
        }
      ],
      "source": [
        "full_data.show(5)"
      ]
    },
    {
      "cell_type": "code",
      "execution_count": null,
      "metadata": {
        "colab": {
          "base_uri": "https://localhost:8080/"
        },
        "id": "VebLJBjshNb6",
        "outputId": "58f2f569-791a-41db-b9c2-e7c27e009c51"
      },
      "outputs": [
        {
          "output_type": "stream",
          "name": "stdout",
          "text": [
            "root\n",
            " |-- TEXT: string (nullable = true)\n",
            " |-- LOCATION: string (nullable = true)\n",
            " |-- LABEL: string (nullable = true)\n",
            "\n",
            "time: 19.3 ms (started: 2023-03-01 15:53:14 +00:00)\n"
          ]
        }
      ],
      "source": [
        "full_data.printSchema()\n"
      ]
    },
    {
      "cell_type": "code",
      "execution_count": null,
      "metadata": {
        "colab": {
          "base_uri": "https://localhost:8080/"
        },
        "id": "XllRtb0XYRvB",
        "outputId": "0a22fd5c-7ae3-4c20-8daa-5a1d2e21373e"
      },
      "outputs": [
        {
          "output_type": "stream",
          "name": "stdout",
          "text": [
            "DataFrame Dimensions : (14393619, 3)\n",
            "DataFrame Rows count : 14393619\n",
            "DataFrame Columns count : 3\n",
            "time: 1min 6s (started: 2023-03-01 15:53:14 +00:00)\n"
          ]
        }
      ],
      "source": [
        "# Get row count\n",
        "rows = full_data.count()\n",
        "\n",
        "# Get columns count\n",
        "cols = len(full_data.columns)\n",
        "\n",
        "print(f\"DataFrame Dimensions : {(rows,cols)}\")\n",
        "print(f\"DataFrame Rows count : {rows}\")\n",
        "print(f\"DataFrame Columns count : {cols}\")"
      ]
    },
    {
      "cell_type": "code",
      "execution_count": null,
      "metadata": {
        "colab": {
          "base_uri": "https://localhost:8080/"
        },
        "id": "Tw0KhabKCzjW",
        "outputId": "f65dcb81-4a03-4515-a3b8-9471a8f18493"
      },
      "outputs": [
        {
          "output_type": "stream",
          "name": "stdout",
          "text": [
            "time: 1.01 ms (started: 2023-03-01 15:54:21 +00:00)\n"
          ]
        }
      ],
      "source": [
        "from pyspark.sql.functions import desc"
      ]
    },
    {
      "cell_type": "code",
      "execution_count": null,
      "metadata": {
        "colab": {
          "base_uri": "https://localhost:8080/"
        },
        "id": "m-NGJ58VC25z",
        "outputId": "1bdb19dd-ea87-45d8-d824-a6db3f8326e3"
      },
      "outputs": [
        {
          "output_type": "stream",
          "name": "stdout",
          "text": [
            "time: 70.2 ms (started: 2023-03-01 15:54:21 +00:00)\n"
          ]
        }
      ],
      "source": [
        "counts = full_data.groupBy(\"LABEL\").count().orderBy(desc(\"count\"))"
      ]
    },
    {
      "cell_type": "code",
      "execution_count": null,
      "metadata": {
        "colab": {
          "base_uri": "https://localhost:8080/"
        },
        "id": "adm8Ku1z-gCi",
        "outputId": "cc211d3a-2dcc-4e84-d588-7c510eed315b"
      },
      "outputs": [
        {
          "output_type": "stream",
          "name": "stdout",
          "text": [
            "+-----------+------+\n",
            "|      LABEL| count|\n",
            "+-----------+------+\n",
            "|      study|294977|\n",
            "|      after|114472|\n",
            "|    factors| 71336|\n",
            "|development| 66812|\n",
            "|     cancer| 61340|\n",
            "|      model| 58257|\n",
            "|     levels| 50882|\n",
            "|   function| 50024|\n",
            "|   specific| 44586|\n",
            "|   approach| 43411|\n",
            "+-----------+------+\n",
            "only showing top 10 rows\n",
            "\n",
            "time: 1min 49s (started: 2023-03-01 15:54:21 +00:00)\n"
          ]
        }
      ],
      "source": [
        "# Count on Groupped Data\n",
        "full_data.groupBy(\"LABEL\").count().orderBy(desc(\"count\")).show(10)"
      ]
    },
    {
      "cell_type": "code",
      "execution_count": null,
      "metadata": {
        "colab": {
          "base_uri": "https://localhost:8080/"
        },
        "id": "PAKtY5UzFnkZ",
        "outputId": "b68cb2c1-a1f4-4222-eb17-d610a2b194d9"
      },
      "outputs": [
        {
          "output_type": "stream",
          "name": "stdout",
          "text": [
            "+--------------------+-----+\n",
            "|                TEXT|count|\n",
            "+--------------------+-----+\n",
            "|    retrospective T0|   82|\n",
            "|  a retrospective T0|   77|\n",
            "|retrospective coh...|   56|\n",
            "|                  SR|   56|\n",
            "|   crosssectional T0|   50|\n",
            "|prospective cohor...|   44|\n",
            "|      prospective T0|   21|\n",
            "|       randomized CT|   17|\n",
            "|    mo disulfide mos|   15|\n",
            "|retrospective cli...|   15|\n",
            "+--------------------+-----+\n",
            "only showing top 10 rows\n",
            "\n",
            "time: 5min 5s (started: 2023-03-01 15:56:10 +00:00)\n"
          ]
        }
      ],
      "source": [
        "# Count on Groupped Data\n",
        "full_data.groupBy(\"TEXT\").count().orderBy(desc(\"count\")).show(10)"
      ]
    },
    {
      "cell_type": "code",
      "execution_count": null,
      "metadata": {
        "colab": {
          "base_uri": "https://localhost:8080/"
        },
        "id": "1IjlH_mRCmIa",
        "outputId": "c8bc3759-c66a-4b22-8115-625b99492a7d"
      },
      "outputs": [
        {
          "output_type": "stream",
          "name": "stdout",
          "text": [
            "time: 90.5 ms (started: 2023-03-01 16:01:16 +00:00)\n"
          ]
        }
      ],
      "source": [
        "\n",
        "Study_data = full_data.filter( (full_data.LABEL == \"study\"))"
      ]
    },
    {
      "cell_type": "code",
      "execution_count": null,
      "metadata": {
        "colab": {
          "base_uri": "https://localhost:8080/"
        },
        "id": "6_uNUDh1jU09",
        "outputId": "b547c939-973d-41a0-e023-2f381f6017b9"
      },
      "outputs": [
        {
          "output_type": "stream",
          "name": "stdout",
          "text": [
            "+--------------------+--------+-----+\n",
            "|                TEXT|LOCATION|LABEL|\n",
            "+--------------------+--------+-----+\n",
            "|the behaviour of ...|      52|study|\n",
            "|fast reaction tec...|       6|study|\n",
            "|the role of the d...|      75|study|\n",
            "|this study uses a...|      37|study|\n",
            "|a statistical T0 ...|       2|study|\n",
            "|the increasing us...|      78|study|\n",
            "|observation of th...|      33|study|\n",
            "|this T0 investiga...|       1|study|\n",
            "|in a T0 of alcoho...|       2|study|\n",
            "|the authors repor...|      31|study|\n",
            "+--------------------+--------+-----+\n",
            "only showing top 10 rows\n",
            "\n",
            "time: 236 ms (started: 2023-03-01 16:01:16 +00:00)\n"
          ]
        }
      ],
      "source": [
        "Study_data.show(10)"
      ]
    },
    {
      "cell_type": "code",
      "execution_count": null,
      "metadata": {
        "colab": {
          "base_uri": "https://localhost:8080/"
        },
        "id": "DF2BEyFvjg8g",
        "outputId": "9763ea90-eb1a-4acd-c91f-614de5d910bb"
      },
      "outputs": [
        {
          "output_type": "execute_result",
          "data": {
            "text/plain": [
              "294977"
            ]
          },
          "metadata": {},
          "execution_count": 24
        },
        {
          "output_type": "stream",
          "name": "stdout",
          "text": [
            "time: 1min 23s (started: 2023-03-01 16:01:16 +00:00)\n"
          ]
        }
      ],
      "source": [
        "# Get row count\n",
        "Study_data.count()"
      ]
    },
    {
      "cell_type": "code",
      "execution_count": null,
      "metadata": {
        "colab": {
          "base_uri": "https://localhost:8080/"
        },
        "id": "AFc_sErTj3uu",
        "outputId": "d5e6b83b-e43f-435f-e320-895b9e05bd1f"
      },
      "outputs": [
        {
          "output_type": "stream",
          "name": "stdout",
          "text": [
            "+--------------------+-----+\n",
            "|                TEXT|count|\n",
            "+--------------------+-----+\n",
            "|    retrospective T0|   82|\n",
            "|  a retrospective T0|   77|\n",
            "|retrospective coh...|   56|\n",
            "|   crosssectional T0|   50|\n",
            "|prospective cohor...|   44|\n",
            "|      prospective T0|   21|\n",
            "|a retrospective c...|   15|\n",
            "|retrospective cli...|   15|\n",
            "|    a prospective T0|   14|\n",
            "|      casecontrol T0|   13|\n",
            "+--------------------+-----+\n",
            "only showing top 10 rows\n",
            "\n",
            "time: 1min 29s (started: 2023-03-01 16:02:40 +00:00)\n"
          ]
        }
      ],
      "source": [
        "# Count on Groupped Data\n",
        "Study_data.groupBy(\"TEXT\").count().orderBy(desc(\"count\")).show(10)"
      ]
    },
    {
      "cell_type": "code",
      "execution_count": null,
      "metadata": {
        "colab": {
          "base_uri": "https://localhost:8080/"
        },
        "id": "8X6Xp3kWLcUy",
        "outputId": "842b7ffe-cddc-4137-ab5e-a181542b3349"
      },
      "outputs": [
        {
          "output_type": "stream",
          "name": "stdout",
          "text": [
            "+--------------------+--------+-----+\n",
            "|                TEXT|LOCATION|LABEL|\n",
            "+--------------------+--------+-----+\n",
            "|T0 a novel method...|       0|study|\n",
            "|T0 aimed to asses...|       0|study|\n",
            "|T0 aiming to cros...|       0|study|\n",
            "|T0 and characteri...|       0|study|\n",
            "|T0 and comparison...|       0|study|\n",
            "|T0 and profound a...|       0|study|\n",
            "|T0 antigenbinding...|       0|study|\n",
            "|T0 by sem of the ...|       0|study|\n",
            "|T0 conducted in r...|       0|study|\n",
            "|T0 design literat...|       0|study|\n",
            "|T0 designs involv...|       0|study|\n",
            "|T0 etiologic stru...|       0|study|\n",
            "|T0 examined perce...|       0|study|\n",
            "|T0 feasibility of...|       0|study|\n",
            "|T0 for influence ...|       0|study|\n",
            "|T0 functional cha...|       0|study|\n",
            "|T0 goals were fol...|       0|study|\n",
            "|T0 goals were to ...|       0|study|\n",
            "|T0 group consiste...|       0|study|\n",
            "|T0 gs was a rando...|       0|study|\n",
            "+--------------------+--------+-----+\n",
            "only showing top 20 rows\n",
            "\n",
            "time: 1min 37s (started: 2023-03-01 16:04:09 +00:00)\n"
          ]
        }
      ],
      "source": [
        "from pyspark.sql import Row\n",
        "\n",
        "Study_data.dropDuplicates(['TEXT']).show(20)\n"
      ]
    },
    {
      "cell_type": "code",
      "execution_count": null,
      "metadata": {
        "colab": {
          "base_uri": "https://localhost:8080/"
        },
        "id": "8q4WErNIdSg9",
        "outputId": "d322112f-3f80-4353-cf57-61cc3af79309"
      },
      "outputs": [
        {
          "output_type": "execute_result",
          "data": {
            "text/plain": [
              "294977"
            ]
          },
          "metadata": {},
          "execution_count": 27
        },
        {
          "output_type": "stream",
          "name": "stdout",
          "text": [
            "time: 1min 21s (started: 2023-03-01 16:05:46 +00:00)\n"
          ]
        }
      ],
      "source": [
        "Study_data.count()"
      ]
    },
    {
      "cell_type": "code",
      "execution_count": null,
      "metadata": {
        "colab": {
          "base_uri": "https://localhost:8080/"
        },
        "id": "-G5oa1jzeEN4",
        "outputId": "bd9d37a1-b835-46b4-a31f-bff495649c5f"
      },
      "outputs": [
        {
          "output_type": "stream",
          "name": "stdout",
          "text": [
            "+--------------------+--------+-----+\n",
            "|                TEXT|LOCATION|count|\n",
            "+--------------------+--------+-----+\n",
            "|    retrospective T0|       1|   82|\n",
            "|  a retrospective T0|       2|   77|\n",
            "|retrospective coh...|       2|   56|\n",
            "|   crosssectional T0|       1|   50|\n",
            "|prospective cohor...|       2|   44|\n",
            "|      prospective T0|       1|   21|\n",
            "|a retrospective c...|       3|   15|\n",
            "|retrospective cli...|       2|   15|\n",
            "|    a prospective T0|       2|   14|\n",
            "| a crosssectional T0|       2|   13|\n",
            "+--------------------+--------+-----+\n",
            "only showing top 10 rows\n",
            "\n",
            "time: 1min 31s (started: 2023-03-01 16:07:08 +00:00)\n"
          ]
        }
      ],
      "source": [
        "\n",
        "# Count on Groupped Data\n",
        "Study_data.groupBy(\"TEXT\",\"LOCATION\").count().orderBy(desc(\"count\")).show(10)"
      ]
    },
    {
      "cell_type": "code",
      "execution_count": null,
      "metadata": {
        "colab": {
          "base_uri": "https://localhost:8080/"
        },
        "id": "Y0eGp1Ou_sYT",
        "outputId": "f9305717-f379-4b97-cd3f-c35f606b768f"
      },
      "outputs": [
        {
          "output_type": "stream",
          "name": "stdout",
          "text": [
            "+--------------------+--------+-----+\n",
            "|                TEXT|LOCATION|LABEL|\n",
            "+--------------------+--------+-----+\n",
            "|                  T0|       0|study|\n",
            "|T0 a novel method...|       0|study|\n",
            "|T0 aiming to cros...|       0|study|\n",
            "|T0 aims include d...|       0|study|\n",
            "|T0 aims to evalua...|       0|study|\n",
            "|T0 aims to evalua...|       0|study|\n",
            "|T0 and characteri...|       0|study|\n",
            "|T0 and comparison...|       0|study|\n",
            "|T0 by sem of the ...|       0|study|\n",
            "|T0 concerned prin...|       0|study|\n",
            "+--------------------+--------+-----+\n",
            "only showing top 10 rows\n",
            "\n",
            "time: 1min 39s (started: 2023-03-01 16:08:40 +00:00)\n"
          ]
        }
      ],
      "source": [
        "Study_data=Study_data.dropDuplicates([\"TEXT\",\"LOCATION\"])\n",
        "Study_data.show(10)"
      ]
    },
    {
      "cell_type": "code",
      "execution_count": null,
      "metadata": {
        "colab": {
          "base_uri": "https://localhost:8080/"
        },
        "id": "o5tKE5HmMuEu",
        "outputId": "4541733d-2014-448a-ce56-80668dcabbce"
      },
      "outputs": [
        {
          "output_type": "execute_result",
          "data": {
            "text/plain": [
              "294266"
            ]
          },
          "metadata": {},
          "execution_count": 30
        },
        {
          "output_type": "stream",
          "name": "stdout",
          "text": [
            "time: 1min 29s (started: 2023-03-01 16:10:19 +00:00)\n"
          ]
        }
      ],
      "source": [
        "Study_data.count()"
      ]
    },
    {
      "cell_type": "markdown",
      "metadata": {
        "id": "M_Dn8W48Nru1"
      },
      "source": [
        "294977 duplicate data delete 294266 "
      ]
    },
    {
      "cell_type": "code",
      "execution_count": null,
      "metadata": {
        "colab": {
          "base_uri": "https://localhost:8080/"
        },
        "id": "WBu3KpLFNrD8",
        "outputId": "7f9e4ecc-ec03-4bd6-b1ec-e6e3a763463e"
      },
      "outputs": [
        {
          "output_type": "stream",
          "name": "stdout",
          "text": [
            "+--------------------+--------+-----+\n",
            "|                TEXT|LOCATION|LABEL|\n",
            "+--------------------+--------+-----+\n",
            "|                  T0|       0|study|\n",
            "|T0 a novel method...|       0|study|\n",
            "|T0 aiming to cros...|       0|study|\n",
            "|T0 aims include d...|       0|study|\n",
            "|T0 aims to evalua...|       0|study|\n",
            "+--------------------+--------+-----+\n",
            "only showing top 5 rows\n",
            "\n",
            "time: 1min 30s (started: 2023-03-01 16:11:49 +00:00)\n"
          ]
        }
      ],
      "source": [
        "Study_data.show(5)"
      ]
    },
    {
      "cell_type": "markdown",
      "metadata": {
        "id": "k4uMeuKtNc7X"
      },
      "source": []
    },
    {
      "cell_type": "markdown",
      "metadata": {
        "id": "-DAUXfZuhZJ9"
      },
      "source": [
        "<hr>\n",
        "\n",
        "<br>\n",
        "<br>\n",
        "\n",
        "# Data Cleaning and Text Processing\n",
        "\n",
        "<br>\n"
      ]
    },
    {
      "cell_type": "code",
      "execution_count": null,
      "metadata": {
        "colab": {
          "base_uri": "https://localhost:8080/"
        },
        "id": "YspmzhuRhYUK",
        "outputId": "754048b9-9a2b-4146-ac5d-fa90ec7f604a"
      },
      "outputs": [
        {
          "output_type": "stream",
          "name": "stdout",
          "text": [
            "time: 1.05 s (started: 2023-03-01 16:13:19 +00:00)\n"
          ]
        }
      ],
      "source": [
        "from pyspark.sql.functions import col, lit, when\n",
        "from pyspark.sql.types import StructType, StructField, StringType,IntegerType\n",
        "from pyspark.sql.functions import split, explode\n",
        "from pyspark.sql.functions import collect_set\n",
        "from pyspark.sql import SparkSession\n",
        "from pyspark.sql.functions import lower, col, udf\n",
        "from pyspark.sql.types import ArrayType, StringType\n",
        "from nltk.corpus import stopwords\n",
        "from nltk.tokenize import word_tokenize\n",
        "from nltk.stem.porter import PorterStemmer"
      ]
    },
    {
      "cell_type": "code",
      "execution_count": null,
      "metadata": {
        "colab": {
          "base_uri": "https://localhost:8080/"
        },
        "id": "PkJZP6kchqB9",
        "outputId": "8bd158d8-d297-4130-b6d7-0438c13a622c"
      },
      "outputs": [
        {
          "output_type": "stream",
          "name": "stdout",
          "text": [
            "time: 11.3 ms (started: 2023-03-01 16:13:20 +00:00)\n"
          ]
        }
      ],
      "source": [
        "# Start Spark session\n",
        "spark = SparkSession.builder.appName(\"TextMining\").getOrCreate()"
      ]
    },
    {
      "cell_type": "code",
      "execution_count": null,
      "metadata": {
        "colab": {
          "base_uri": "https://localhost:8080/"
        },
        "id": "3f5SuYIjhz8Z",
        "outputId": "90df74df-edae-4d4d-92c7-2d0430fd095b"
      },
      "outputs": [
        {
          "output_type": "stream",
          "name": "stdout",
          "text": [
            "time: 26.9 ms (started: 2023-03-01 16:13:20 +00:00)\n"
          ]
        }
      ],
      "source": [
        "# Convert text to lowercase and create new column for processed text\n",
        "Study_data = Study_data.withColumn(\"processed_text\", lower(col(\"text\")))"
      ]
    },
    {
      "cell_type": "code",
      "execution_count": null,
      "metadata": {
        "colab": {
          "base_uri": "https://localhost:8080/"
        },
        "id": "OrfHQbQ4h2bn",
        "outputId": "b1d951e0-a65f-438d-e421-c76479bf17ea"
      },
      "outputs": [
        {
          "output_type": "stream",
          "name": "stdout",
          "text": [
            "+--------------------+--------+-----+--------------------+\n",
            "|                TEXT|LOCATION|LABEL|      processed_text|\n",
            "+--------------------+--------+-----+--------------------+\n",
            "|                  T0|       0|study|                  t0|\n",
            "|T0 a novel method...|       0|study|t0 a novel method...|\n",
            "|T0 aiming to cros...|       0|study|t0 aiming to cros...|\n",
            "|T0 aims include d...|       0|study|t0 aims include d...|\n",
            "|T0 aims to evalua...|       0|study|t0 aims to evalua...|\n",
            "+--------------------+--------+-----+--------------------+\n",
            "only showing top 5 rows\n",
            "\n",
            "time: 1min 29s (started: 2023-03-01 16:13:20 +00:00)\n"
          ]
        }
      ],
      "source": [
        "Study_data.show(5)"
      ]
    },
    {
      "cell_type": "code",
      "execution_count": null,
      "metadata": {
        "colab": {
          "base_uri": "https://localhost:8080/"
        },
        "id": "a5IldZ9ch4_S",
        "outputId": "704bc200-a712-45b8-c09d-1feb60c8cf29"
      },
      "outputs": [
        {
          "output_type": "execute_result",
          "data": {
            "text/plain": [
              "DataFrame[TEXT: string, LOCATION: string, LABEL: string, processed_text: string]"
            ]
          },
          "metadata": {},
          "execution_count": 36
        },
        {
          "output_type": "stream",
          "name": "stdout",
          "text": [
            "time: 78.5 ms (started: 2023-03-01 16:14:49 +00:00)\n"
          ]
        }
      ],
      "source": [
        "Study_data.cache()"
      ]
    },
    {
      "cell_type": "code",
      "execution_count": null,
      "metadata": {
        "colab": {
          "base_uri": "https://localhost:8080/"
        },
        "id": "Tb-Gdo896AxP",
        "outputId": "8526fd6e-f73b-425e-a4c6-ea110bc4e36d"
      },
      "outputs": [
        {
          "output_type": "stream",
          "name": "stdout",
          "text": [
            "+--------+--------------------+\n",
            "|LOCATION|      processed_text|\n",
            "+--------+--------------------+\n",
            "|       0|t0 of molecular h...|\n",
            "|       0|t0 of the impacts...|\n",
            "|       1|a t0 has been und...|\n",
            "|       1|a t0 in this issu...|\n",
            "|       1|a t0 of visiting ...|\n",
            "+--------+--------------------+\n",
            "only showing top 5 rows\n",
            "\n",
            "time: 1min 31s (started: 2023-03-01 16:14:50 +00:00)\n"
          ]
        }
      ],
      "source": [
        "from pyspark.sql.functions import regexp_replace, trim, col, lower\n",
        "\n",
        "def removePunctuation(column):\n",
        "   return lower(trim(regexp_replace(column,'\\\\p{Punct}',''))).alias('sentence')\n",
        "\n",
        "Study_data = Study_data.select(\"LOCATION\",removePunctuation(col('processed_text')).alias(\"processed_text\"))\n",
        "Study_data.show(5)"
      ]
    },
    {
      "cell_type": "code",
      "execution_count": null,
      "metadata": {
        "colab": {
          "base_uri": "https://localhost:8080/"
        },
        "id": "SUrzKvvY8Z7d",
        "outputId": "0c3244d8-82cf-4247-b936-e1793fe382e9"
      },
      "outputs": [
        {
          "output_type": "stream",
          "name": "stdout",
          "text": [
            "+--------+--------------------+--------------------+\n",
            "|LOCATION|      processed_text|         words_token|\n",
            "+--------+--------------------+--------------------+\n",
            "|       0|t0 of molecular h...|[t0, of, molecula...|\n",
            "|       0|t0 of the impacts...|[t0, of, the, imp...|\n",
            "|       1|a t0 has been und...|[a, t0, has, been...|\n",
            "|       1|a t0 in this issu...|[a, t0, in, this,...|\n",
            "|       1|a t0 of visiting ...|[a, t0, of, visit...|\n",
            "|       1|a t0 of women wit...|[a, t0, of, women...|\n",
            "|       1|a t0 was carried ...|[a, t0, was, carr...|\n",
            "|      68|a best evidence t...|[a, best, evidenc...|\n",
            "|       3|a clinical interv...|[a, clinical, int...|\n",
            "|     222|a commonly accept...|[a, commonly, acc...|\n",
            "|       2|a comparative t0 ...|[a, comparative, ...|\n",
            "|       2|a controlled t0 o...|[a, controlled, t...|\n",
            "|       2|a crosssectional ...|[a, crosssectiona...|\n",
            "|     115|a description is ...|[a, description, ...|\n",
            "|      57|a detailed analys...|[a, detailed, ana...|\n",
            "|      86|a factorial desig...|[a, factorial, de...|\n",
            "|       2|a followup t0 in ...|[a, followup, t0,...|\n",
            "|     228|a growing body of...|[a, growing, body...|\n",
            "|     174|a kb segment of t...|[a, kb, segment, ...|\n",
            "|      35|a moderately halo...|[a, moderately, h...|\n",
            "+--------+--------------------+--------------------+\n",
            "only showing top 20 rows\n",
            "\n",
            "time: 626 ms (started: 2023-03-01 16:16:21 +00:00)\n"
          ]
        }
      ],
      "source": [
        "from pyspark.ml.feature import Tokenizer, StopWordsRemover\n",
        "from pyspark.sql.functions import trim,split,explode,col\n",
        "\n",
        "\n",
        "tokenizer = Tokenizer(inputCol='processed_text', outputCol='words_token')\n",
        "Study_data = Study_data.withColumn(\"processed_text\", trim(col(\"processed_text\")))\n",
        "Study_data = tokenizer.transform(Study_data)\n",
        "Study_data.show(20)"
      ]
    },
    {
      "cell_type": "code",
      "execution_count": null,
      "metadata": {
        "colab": {
          "base_uri": "https://localhost:8080/"
        },
        "id": "OrbcXvT78n3D",
        "outputId": "03f5338f-0493-4dbf-aa37-1b88e4479be3"
      },
      "outputs": [
        {
          "output_type": "stream",
          "name": "stdout",
          "text": [
            "+----------------------------------------------------------------------------------------------------------------------------------------------------------------------------------------------------------------------------------------------------------------------------------------------------------------------------------------------------------------------------------------------------------------------------------------------------------------------------------------------------------------------------------------------------------------------------------------------------------------------------------------------------------------------------------------------------------------------------------------------------------------------------------------------------------------------------------------------------------------------------------------------------------------------------------------------------------------------------------------------------------------------------------------------------------------------------------------------------------------------------------------------------------------------------------------------------------------------------------------------------------------------------------------------------------------------------------------------------------------------------------------------------------------------------------------------------------------------------------------------------------------------------------------------------------------------------------------------+\n",
            "|words_clean                                                                                                                                                                                                                                                                                                                                                                                                                                                                                                                                                                                                                                                                                                                                                                                                                                                                                                                                                                                                                                                                                                                                                                                                                                                                                                                                                                                                                                                                                                                                                                                   |\n",
            "+----------------------------------------------------------------------------------------------------------------------------------------------------------------------------------------------------------------------------------------------------------------------------------------------------------------------------------------------------------------------------------------------------------------------------------------------------------------------------------------------------------------------------------------------------------------------------------------------------------------------------------------------------------------------------------------------------------------------------------------------------------------------------------------------------------------------------------------------------------------------------------------------------------------------------------------------------------------------------------------------------------------------------------------------------------------------------------------------------------------------------------------------------------------------------------------------------------------------------------------------------------------------------------------------------------------------------------------------------------------------------------------------------------------------------------------------------------------------------------------------------------------------------------------------------------------------------------------------+\n",
            "|[t0, molecular, heterogeneity, immunoreactive, prolactin, patients, macro, microprolactinomas, idiopathic, hyperprolactinemia, shown, heterogeneity, total, blood, immunoreactive, prolactin, pool, examined, patients, pool, included, three, basic, forms, molecular, masses, kd, k, k, kprolactin, whose, ratios, essentially, differed, individual, patients, physiologically, active, monomeric, k, form, prolactin, predominated, blood, patients, hyperprolactinemia, due, hypophyseal, micro, macroadenomas, parallelled, manifest, signs, galactorrhea, hypogonadism, content, form, may, reach, total, immunoreactive, hormone, patients, hyperprolactinemia, obscure, origin, present, quite, contrary, ratio, prolactin, immunoreactive, forms, predominance, highmolecular, k, form, hormone, whose, share, may, reach, cases, hyperprolactinemia, may, associated, absence, clearcut, clinical, manifestations, including, galactorrhea, menstrual, cycle, disorders, inefficacy, traditional, therapy, cases, tentatively, classified, highmolecular, prolactin, syndrome, need, research]                                                                                                                                                                                                                                                                                                                                                                                                                                                                                     |\n",
            "|[t0, impacts, biological, invasions, pervasive, component, global, change, generated, remarkable, understanding, mechanisms, consequences, spread, introduced, populations, growing, field, invasion, science, poised, crossroads, ecology, social, sciences, resource, management, public, perception, meet, increasingly, exposed, critical, scrutiny, several, perspectives, although, rate, biological, invasions, elucidation, consequences, knowledge, mitigation, growing, rapidly, need, invasion, science, disputed, highlight, recent, progress, understanding, invasion, impacts, management, discuss, challenges, discipline, faces, science, interactions, society]                                                                                                                                                                                                                                                                                                                                                                                                                                                                                                                                                                                                                                                                                                                                                                                                                                                                                                              |\n",
            "|[t0, undertaken, investigate, influence, fermosin, depotfat, composition, broilers, oxidative, stability, fats, parallel, test, animals, fed, yeast, conventional, produced, carbohydrate, base, data, obtained, discussed, reference, literature]                                                                                                                                                                                                                                                                                                                                                                                                                                                                                                                                                                                                                                                                                                                                                                                                                                                                                                                                                                                                                                                                                                                                                                                                                                                                                                                                            |\n",
            "|[t0, issue, molecular, cell, elcheva, et, al, shows, inherent, instability, betatrcp, mrna, caused, microrna, targeting, coding, sequence, interestingly, action, directly, opposed, rnabinding, protein, crdbp]                                                                                                                                                                                                                                                                                                                                                                                                                                                                                                                                                                                                                                                                                                                                                                                                                                                                                                                                                                                                                                                                                                                                                                                                                                                                                                                                                                              |\n",
            "|[t0, visiting, patterns, intensive, care, nursery, month, period, undertaken, data, visits, obtained, admissions, infants, transferred, towns, addition, parents, interviewed, determine, factors, precluding, visiting, inborn, group, outoftown, group, b, data, analyzed, group, mean, number, weekly, visits, range, total, cost, visiting, hospitalization, range, group, b, figures, range, range, respectively, parents, group, b, visited, less, often, made, fewer, telephone, inquiries, earned, lower, salary, parents, group, frequency, visits, correlated, social, class, commonly, identified, factors, limiting, visiting, care, siblings, demands, work, cost, trip, distance]                                                                                                                                                                                                                                                                                                                                                                                                                                                                                                                                                                                                                                                                                                                                                                                                                                                                                               |\n",
            "|[t0, women, low, urinary, oestriol, excretion, third, trimester, pregnancy, showed, incidence, major, fetal, malformations, among, infants, perinatal, mortality, rate, thirteen, malformations, cases, anencephaly, perinatal, deaths, due, associated, major, fetal, malformations, incidence, complications, higher, maternal, oestriol, excretion, lower, routine, screening, urinary, oestriol, assay, fetal, radiography, values, mumol, hours, mg, h, detected, reliable, method, detecting, anencephaly, birth]                                                                                                                                                                                                                                                                                                                                                                                                                                                                                                                                                                                                                                                                                                                                                                                                                                                                                                                                                                                                                                                                       |\n",
            "|[t0, carried, influence, different, aza, crown, ethers, electric, percolation, aotisooctanewater, microemulsions, dual, behavior, aza, crown, ethers, regard, percolative, phenomenon, observed, low, additive, concentration, causes, increase, percolation, temperature, whereas, high, additive, concentration, reduction, percolation, temperature, system, observed, dual, behavior, allowed, us, define, compensation, concentration, corresponds, aza, crown, ether, concentration, effect, percolative, phenomenon, observed, correlation, effect, exerted, aza, crown, ethers, size, cavity, shows, importance, capacity, complexate, na, solubilize, interface, continuous, medium, electric, percolation, also, observed, correlation, effect, aza, crown, ethers, percolation, temperature, external, size, shows, importance, inclusion, interface, percolative, phenomenon, inclusion, modifies, properties, aot, film, facilitating, exchange, matter, droplets, satisfactory, multiparametric, correlation, compensation, concentration, distribution, aza, crown, ether, water, octanol, number, electrondonor, atoms, o, n, crown, ether, obtained, effects, compared, corresponding, crown, ethers]                                                                                                                                                                                                                                                                                                                                                                        |\n",
            "|[best, evidence, topic, cardiothoracic, surgery, written, according, structured, protocol, question, addressed, open, heart, surgery, adverse, effect, closing, pericardium, altogether, publications, found, using, reported, search, deemed, relevant, answer, clinical, question, author, journal, date, country, publication, patient, group, studied, study, type, relevant, outcomes, results, t0, weaknesses, papers, tabulated, conclude, adverse, haemodynamic, impact, pericardial, closure, confirmed, several, studies, however, study, yet, reported, adverse, clinical, outcome, due, closure, pericardium]                                                                                                                                                                                                                                                                                                                                                                                                                                                                                                                                                                                                                                                                                                                                                                                                                                                                                                                                                                     |\n",
            "|[clinical, intervention, t0, developed, hospital, specialized, cardiology, porto, alegre, rs, brazil, objective, evaluating, implementation, pain, scale, postoperative, cardiac, surgery, patients, developed, four, steps, pretest, pain, training, lecture, nursing, staff, reapplication, pretest, days, test, consisted, ten, questions, weighing, one, point, scores, determined, represent, satisfactory, knowledge, using, pain, scale, sample, consisted, nursing, professionals, scores, ranged, pretest, days, respectively, p, pain, intensity, correlated, medication, standardized, protocol, training, improved, knowledge, team, type, analgesia, administered, relation, pain, intensity]                                                                                                                                                                                                                                                                                                                                                                                                                                                                                                                                                                                                                                                                                                                                                                                                                                                                                    |\n",
            "|[commonly, accepted, hypothesis, acute, pharyngotonsillitis, caused, bacteria, first, adhere, epithelial, surface, invade, tonsillar, parenchyma, however, evidence, directly, supporting, hypothesis, available, previous, studies, acute, pharyngotonsillitis, found, secretion, crypts, surface, infected, acute, pharyngotonsillitis, bacteria, detected, parenchyma, based, results, proposed, new, hypothesis, stating, infection, restricted, crypt, surface, secretions, acute, pharyngotonsillitis, evaluate, hypothesis, present, study, examined, tonsillar, tissue, secretion, patients, acute, pharyngotonsillitis, recurrent, pharyngotonsillitis, healthy, tonsils, surface, secretion, studied, sampling, imprint, technique, followed, routine, histological, preparation, tonsillar, tissue, examined, fluorescence, microscopy, staining, acridine, orange, transmission, electron, microscopy, high, numbers, bacteria, moderate, extensive, ongoing, phagocytosis, crypt, surface, secretion, patients, acute, pharyngotonsillitis, bacteria, leucocytes, phagocytosis, also, present, less, extent, secretion, patients, recurrent, pharyngotonsillitis, even, less, extent, healthy, controls, none, investigated, tonsils, bacteria, present, parenchyma, bacterial, adherence, epithelial, surface, rarely, observed, t0, supports, hypothesis, acute, pharyngotonsillitis, infection, restricted, crypt, surface, secretion, bacterial, adherence, significant, importance, pathogenesis, acute, pharyngotonsillitis]                                               |\n",
            "|[comparative, t0, generalized, cooccurrence, texture, analysis, tools, presented, generalized, cooccurrence, matrix, gcm, reflects, shape, size, spatial, arrangement, texture, features, particular, texture, features, considered, paper, pixelintensity, generalized, cooccurrence, reduces, traditional, cooccurrence, edgepixel, extendededges, three, experiments, discussedthe, first, based, nearest, neighbor, classifier, second, linear, discriminant, classifier, third, battacharyya, distance, figure, merit]                                                                                                                                                                                                                                                                                                                                                                                                                                                                                                                                                                                                                                                                                                                                                                                                                                                                                                                                                                                                                                                                   |\n",
            "|[controlled, t0, enhancing, tuberculin, allergy, one, earlier, tuberculin, tests, carried, previously, untested, unvaccinated, population, area, prevalence, nonspecific, allergy, known, high, results, shown, test, tu, ppd, rt, tween, diluent, causes, subsequent, tests, elicit, significantly, larger, reactions, enhancing, effect, marked, among, initial, reactions, mm, tu, mm, tu, practically, enhancement, among, whose, reactions, tu, measure, mm, even, mm, even, group, reactions, mm, tu, individuals, show, evidence, enhancement, enhancing, allergy, increases, agethe, addition, tu, test, increases, enhancement, allergy, mostly, among, reactions, mm, tuthe, findings, suggest, enhancement, may, marked, communities, high, prevalence, nonspecific, allergy]                                                                                                                                                                                                                                                                                                                                                                                                                                                                                                                                                                                                                                                                                                                                                                                                      |\n",
            "|[crosssectional, t0, designed, generate, information, herd, level, prevalence, risk, factors, leptospira, serovar, hardjo, l, hardjo, yamagata, southern, tohoku, japan, bulk, tank, milk, samples, dairy, herds, used, test, herd, level, seroprevalence, l, hardjo, using, commercial, elisa, kit, detects, l, interrogans, serovar, hardjo, l, borgpetersenii, serovar, hardjo, questionnaire, survey, conducted, sampled, farms, univariable, multivariable, analyses, performed, spatial, clustering, l, hardjo, herd, level, examined, using, spatial, scan, statistics, seventyone, herds, found, positive, l, hardjo, apparent, herd, prevalence, ci, risk, factors, seropositivity, larger, herd, size, p, cows, history, staying, hokkaido, p, spatial, scan, statistic, detected, likely, cluster, relative, risk, log, likelihood, ratio, radiuskm, p, southern, part, study, area, large, herd, sizes, farm, density, high, study, revealed, l, hardjo, prevalent, throughout, yamagata, large, scale, herd, owners, introducing, cows, hokkaido, particular, aware, risk, infection]                                                                                                                                                                                                                                                                                                                                                                                                                                                                                            |\n",
            "|[description, given, pathohistological, structure, calcified, tissue, apical, opening, four, extracted, immature, pulpless, human, teeth, treated, various, endodontic, methods, concluded, tooth, treated, mortal, extirpation, neither, histological, healing, tendency, apex, formation, tooth, vital, extirpation, performed, one, teeth, treated, apical, periodontitis, apices, formed, conglomerates, different, calcified, tissues, identical, tissue, formed, comparable, conditions, experimental, dogs, fourth, human, tooth, also, treated, apical, periodontitis, treatment, apical, opening, closed, irregular, dentine, tissue, t0, consideration, given, problem, origin, odontoblasts, coexist, hard, destructive, process, present, pulpless, teeth, concluded, case, presented, study, irregular, dentine, formed, odontoblasts, took, part, process, normal, odontogenesis, fact, respected, course, endodontic, treatment, immature, pulpless, teeth]                                                                                                                                                                                                                                                                                                                                                                                                                                                                                                                                                                                                                    |\n",
            "|[detailed, analysis, cases, enteric, fever, nigerian, children, shows, fever, abdominal, pain, vomiting, diarrhoea, main, presenting, features, disorders, sensorium, occurred, associated, conditions, bizarre, manifestations, often, delayed, diagnosis, coupled, complications, intestinal, haemorrhage, perforation, adversely, affected, mortality, t0]                                                                                                                                                                                                                                                                                                                                                                                                                                                                                                                                                                                                                                                                                                                                                                                                                                                                                                                                                                                                                                                                                                                                                                                                                                 |\n",
            "|[factorial, design, applied, optimization, determination, dimethyltin, chloride, hydride, generation, gas, phase, molecular, absorption, spectrometry, hggpmas, method, described, determination, dimethyltin, chloride, conversion, gaseous, dimethyltin, hydride, adding, sodium, tetrahydroborate, iii, solution, hydride, generated, collected, liquid, nitrogen, cryogenic, trap, revolatilized, driven, quartz, flow, cell, measured, gas, phase, molecular, absorption, spectrometry, gpmas, diode, array, detection, plackettburmann, design, used, t0, factors, influence, absorption, signal, optimization, factors, performed, using, central, composite, design, spectra, obtained, wide, range, wavelengths, nm, allow, multivariate, calibration, studied, parameters, affecting, production, collection, dimethyltin, hydride, studied, detection, limit, obtained, ng, ml, precision, rsd, calculated, solution, containing, ten, times, corresponding, detection, limit, recoveries, satisfactory, study, made, influence, several, interferent, ions, hydride, generators, transition, metals, anions, presence, dimethyltin, chloride]                                                                                                                                                                                                                                                                                                                                                                                                                                     |\n",
            "|[followup, t0, two, rural, communities, state, chiapas, mexico, compared, families, used, improved, stove, cooking, used, traditional, openfire, stoves, assess, risks, respiratory, symptoms, children, women, exposed, wood, smoke, hour, measurements, showed, concentration, particles, less, microm, diameter, significantly, lower, households, better, stoves, kitchen, area, children, usually, play, ie, microgm, vs, microgm, p, multivariate, models, showed, using, better, stove, tended, protect, symptoms, common, cold, children, rr, ci, use, firewood, linked, greater, risks, experiencing, difficulty, breathing, rr, ci, common, cold, rr, ci, women, use, stoves, require, less, wood, cooking, reduces, risks, respiratory, symptoms, may, contribute, complicated, respiratory, diseases, mortality]                                                                                                                                                                                                                                                                                                                                                                                                                                                                                                                                                                                                                                                                                                                                                                  |\n",
            "|[growing, body, literature, implicated, nmethyldaspartate, nmda, receptor, mechanisms, acute, antinociceptive, effects, morphine, however, nature, interaction, thoroughly, quantified, moreover, clear, whether, nmdamorphine, interactions, extend, less, efficacious, opioids, therefore, present, study, examined, effects, morphine, various, lowefficacy, opioid, agonists, combination, nmda, antagonist, phosphonomethyldecahydroisoquinolinecarboxylic, acid, ly, two, different, assays, schedulecontrolled, responding, thermal, nociception, data, examined, doseaddition, analysis, provide, quantitative, assessment, drug, interactions, ly, opioid, agonists, morphine, buprenorphine, butorphanol, nalbuphine, decreased, rates, schedulecontrolled, responding, lymorphine, lybuprenorphine, mixtures, produced, additive, subadditive, effects, assay, whereas, lybutorphanol, lynalbuphine, mixtures, produced, additive, supraadditive, effects, depending, relative, proportions, drug, mixture, morphine, buprenorphine, butorphanol, nalbuphine, also, produced, dosedependent, antinociception, assay, thermal, nociception, whereas, ly, failed, produce, effect, assay, ly, potentiated, antinociceptive, effects, morphine, lowefficacy, opioids, tested, results, suggest, ly, may, selectively, increase, antinociceptive, effects, morphine, lowefficacy, opioid, receptor, agonists, without, increasing, ratealtering, effects, addition, data, confirm, behavioral, effects, drug, mixtures, depend, relative, concentrations, drugs, mixture, endpoint, t0]|\n",
            "|[kb, segment, alcohol, dehydrogenase, adh, region, includes, adh, adhrelated, genes, sequenced, drosophila, pseudoobscura, strains, collected, populations, adh, gene, encodes, four, protein, alleles, rejects, neutral, model, protein, evolution, mcdonaldkreitman, test, although, number, segregating, synonymous, sites, high, conclude, adaptive, selection, operated, adhrelated, gene, encodes, protein, haplotypes, fails, reject, equilibrium, neutral, model, populations, fail, show, significant, geographic, differentiation, adhrelated, haplotypes, eight, single, nucleotide, polymorphisms, snps, adh, region, significant, linkage, disequilibrium, three, adhr, protein, alleles, coalescent, simulations, without, recombination, used, derive, expected, levels, significant, linkage, disequilibrium, snps, protein, haplotypes, maximum, levels, linkage, disequilibrium, expected, protein, alleles, moderate, frequencies, coalescent, models, without, recombination, linkage, disequilibrium, decays, snps, high, frequency, haplotypes, common, alleles, mutate, haplotypes, rare, reach, moderate, frequency, implication, t0, linkage, disequilibrium, mapping, highest, probability, success, diseasecausing, alleles, frequencies]                                                                                                                                                                                                                                                                                                                          |\n",
            "|[moderately, halophilic, gramnegative, bacterium, strain, cgt, isolated, solar, saltern, cabo, de, gata, wildlife, reserve, located, province, almerã­a, southern, spain, subjected, polyphasic, taxonomic, t0, organism, aerobic, motile, rod, produced, colonies, yellow, pigment, strain, cgt, grew, salinities, wv, degrees, c, ph, organism, reduced, nitrate, hydrolysed, starch, phenylalanine, deaminase, activity, major, fatty, acids, c, omegac, c, c, cyclo, omegac, dna, gc, content, mol, basis, phenotypic, phylogenetic, data, strain, cgt, appears, member, genus, chromohalobacter, clustered, closely, chromohalobacter, species, similarity, rrna, gene, sequences, however, dnadna, relatedness, isolate, type, strains, chromohalobacter, species, low, therefore, proposed, strain, cgt, represents, novel, species, chromohalobacter, salarius, sp, nov, type, strain, strain, cgt, cect, tlmg]                                                                                                                                                                                                                                                                                                                                                                                                                                                                                                                                                                                                                                                                       |\n",
            "+----------------------------------------------------------------------------------------------------------------------------------------------------------------------------------------------------------------------------------------------------------------------------------------------------------------------------------------------------------------------------------------------------------------------------------------------------------------------------------------------------------------------------------------------------------------------------------------------------------------------------------------------------------------------------------------------------------------------------------------------------------------------------------------------------------------------------------------------------------------------------------------------------------------------------------------------------------------------------------------------------------------------------------------------------------------------------------------------------------------------------------------------------------------------------------------------------------------------------------------------------------------------------------------------------------------------------------------------------------------------------------------------------------------------------------------------------------------------------------------------------------------------------------------------------------------------------------------------+\n",
            "only showing top 20 rows\n",
            "\n",
            "time: 561 ms (started: 2023-03-01 16:16:22 +00:00)\n"
          ]
        }
      ],
      "source": [
        "from pyspark.ml.feature import StopWordsRemover\n",
        "remover = StopWordsRemover(inputCol='words_token', outputCol='words_clean')\n",
        "Study_data = remover.transform(Study_data).select(\"LOCATION\",\"processed_text\",'words_clean')\n",
        "Study_data.select(\"words_clean\").show(truncate=False)"
      ]
    },
    {
      "cell_type": "code",
      "execution_count": null,
      "metadata": {
        "colab": {
          "base_uri": "https://localhost:8080/"
        },
        "id": "jKSqIuBr9Y5I",
        "outputId": "9bcf5a9f-1802-49d6-c444-e057fae6a5f6"
      },
      "outputs": [
        {
          "output_type": "stream",
          "name": "stdout",
          "text": [
            "+--------+--------------------+--------------------+\n",
            "|LOCATION|      processed_text|         words_clean|\n",
            "+--------+--------------------+--------------------+\n",
            "|       0|t0 of molecular h...|[t0, molecular, h...|\n",
            "|       0|t0 of the impacts...|[t0, impacts, bio...|\n",
            "|       1|a t0 has been und...|[t0, undertaken, ...|\n",
            "|       1|a t0 in this issu...|[t0, issue, molec...|\n",
            "|       1|a t0 of visiting ...|[t0, visiting, pa...|\n",
            "|       1|a t0 of women wit...|[t0, women, low, ...|\n",
            "|       1|a t0 was carried ...|[t0, carried, inf...|\n",
            "|      68|a best evidence t...|[best, evidence, ...|\n",
            "|       3|a clinical interv...|[clinical, interv...|\n",
            "|     222|a commonly accept...|[commonly, accept...|\n",
            "+--------+--------------------+--------------------+\n",
            "only showing top 10 rows\n",
            "\n",
            "time: 313 ms (started: 2023-03-01 16:16:22 +00:00)\n"
          ]
        }
      ],
      "source": [
        "from pyspark.sql.functions import expr\n",
        "\n",
        "Study_data = Study_data.withColumn(\"words_clean\", expr(\"filter(words_clean, elem -> elem != '')\"))\n",
        "Study_data.show(10)"
      ]
    },
    {
      "cell_type": "code",
      "execution_count": null,
      "metadata": {
        "colab": {
          "base_uri": "https://localhost:8080/"
        },
        "id": "wwqfSmIn9msw",
        "outputId": "eb6d7311-e60d-4989-e21d-0d3294ae84fc"
      },
      "outputs": [
        {
          "output_type": "stream",
          "name": "stdout",
          "text": [
            "+--------+--------------------+--------------------+\n",
            "|LOCATION|      processed_text|         words_clean|\n",
            "+--------+--------------------+--------------------+\n",
            "|       0|t0 of molecular h...|[heterogeneity, k...|\n",
            "|       0|t0 of the impacts...|[disputed, expose...|\n",
            "|       1|a t0 has been und...|[obtained, animal...|\n",
            "|       1|a t0 in this issu...|[protein, inheren...|\n",
            "|       1|a t0 of visiting ...|[commonly, fewer,...|\n",
            "|       1|a t0 of women wit...|[deaths, reliable...|\n",
            "|       1|a t0 was carried ...|[concentration, d...|\n",
            "|      68|a best evidence t...|[using, papers, f...|\n",
            "|       3|a clinical interv...|[professionals, r...|\n",
            "|     222|a commonly accept...|[technique, bacte...|\n",
            "+--------+--------------------+--------------------+\n",
            "only showing top 10 rows\n",
            "\n",
            "time: 1.63 s (started: 2023-03-01 16:16:22 +00:00)\n"
          ]
        }
      ],
      "source": [
        "from pyspark.sql.functions import udf\n",
        "from pyspark.sql.types import ArrayType,StringType\n",
        "\n",
        "get_uniques=udf(lambda x: list(set(x)), ArrayType(StringType()))\n",
        "\n",
        "Study_data = Study_data.withColumn(\"words_clean\", get_uniques(Study_data.words_clean))\n",
        "Study_data.show(10)"
      ]
    },
    {
      "cell_type": "code",
      "execution_count": null,
      "metadata": {
        "colab": {
          "base_uri": "https://localhost:8080/"
        },
        "id": "1hN_AboOHQg5",
        "outputId": "6168084f-6073-40d9-98f8-42bd073bd23f"
      },
      "outputs": [
        {
          "output_type": "stream",
          "name": "stdout",
          "text": [
            "+--------------------+--------------------+\n",
            "|      processed_text|         words_clean|\n",
            "+--------------------+--------------------+\n",
            "|t0 of molecular h...|[heterogeneity, k...|\n",
            "|t0 of the impacts...|[disputed, expose...|\n",
            "|a t0 has been und...|[obtained, animal...|\n",
            "|a t0 in this issu...|[protein, inheren...|\n",
            "|a t0 of visiting ...|[commonly, fewer,...|\n",
            "+--------------------+--------------------+\n",
            "only showing top 5 rows\n",
            "\n",
            "time: 302 ms (started: 2023-03-01 16:16:24 +00:00)\n"
          ]
        }
      ],
      "source": [
        "Study_data = Study_data.drop(\"LOCATION\")\n",
        "Study_data.show(5)"
      ]
    },
    {
      "cell_type": "markdown",
      "metadata": {
        "id": "VTaPmMOfGoVn"
      },
      "source": [
        "# Market Basket Analysis"
      ]
    },
    {
      "cell_type": "markdown",
      "metadata": {
        "id": "5r6OPnE6GvWl"
      },
      "source": [
        "Basket Build"
      ]
    },
    {
      "cell_type": "code",
      "execution_count": null,
      "metadata": {
        "colab": {
          "base_uri": "https://localhost:8080/"
        },
        "id": "kjvOAToIG45M",
        "outputId": "edc25e1e-7c53-4ade-ed7a-dc53e9b99079"
      },
      "outputs": [
        {
          "output_type": "stream",
          "name": "stdout",
          "text": [
            "time: 1.2 ms (started: 2023-03-01 16:16:24 +00:00)\n"
          ]
        }
      ],
      "source": [
        "from pyspark.sql.functions import collect_set"
      ]
    },
    {
      "cell_type": "code",
      "execution_count": null,
      "metadata": {
        "colab": {
          "base_uri": "https://localhost:8080/"
        },
        "id": "M5Fo5hP-KCr8",
        "outputId": "02859aef-8757-4e98-fe28-fe30ce78b1ca"
      },
      "outputs": [
        {
          "output_type": "stream",
          "name": "stdout",
          "text": [
            "time: 57.9 ms (started: 2023-03-01 16:16:24 +00:00)\n"
          ]
        }
      ],
      "source": [
        "slen = udf(lambda s: len(s), IntegerType())\n",
        "Study_data = Study_data.withColumn(\"word_count\", slen(Study_data.words_clean))"
      ]
    },
    {
      "cell_type": "code",
      "execution_count": null,
      "metadata": {
        "colab": {
          "base_uri": "https://localhost:8080/"
        },
        "id": "slNuS0rpIdnN",
        "outputId": "f595cd4c-07e5-4c42-81ef-34e1637da864"
      },
      "outputs": [
        {
          "output_type": "execute_result",
          "data": {
            "text/plain": [
              "DataFrame[processed_text: string, words_clean: array<string>, word_count: int]"
            ]
          },
          "metadata": {},
          "execution_count": 45
        },
        {
          "output_type": "stream",
          "name": "stdout",
          "text": [
            "time: 72.8 ms (started: 2023-03-01 16:16:25 +00:00)\n"
          ]
        }
      ],
      "source": [
        "Study_data.cache()"
      ]
    },
    {
      "cell_type": "code",
      "execution_count": null,
      "metadata": {
        "colab": {
          "base_uri": "https://localhost:8080/"
        },
        "id": "KkOpX7JUKOqH",
        "outputId": "bc46f819-9f21-4dc3-eaf5-fae8474eef88"
      },
      "outputs": [
        {
          "output_type": "stream",
          "name": "stdout",
          "text": [
            "+--------------------+--------------------+----------+\n",
            "|      processed_text|         words_clean|word_count|\n",
            "+--------------------+--------------------+----------+\n",
            "|t0 of molecular h...|[heterogeneity, k...|        73|\n",
            "|t0 of the impacts...|[disputed, expose...|        53|\n",
            "|a t0 has been und...|[obtained, animal...|        25|\n",
            "|a t0 in this issu...|[protein, inheren...|        24|\n",
            "|a t0 of visiting ...|[commonly, fewer,...|        58|\n",
            "|a t0 of women wit...|[deaths, reliable...|        43|\n",
            "|a t0 was carried ...|[concentration, d...|        72|\n",
            "|a best evidence t...|[using, papers, f...|        55|\n",
            "|a clinical interv...|[professionals, r...|        58|\n",
            "|a commonly accept...|[technique, bacte...|        82|\n",
            "+--------------------+--------------------+----------+\n",
            "only showing top 10 rows\n",
            "\n",
            "time: 858 ms (started: 2023-03-01 16:16:25 +00:00)\n"
          ]
        }
      ],
      "source": [
        "Study_data.show(10)"
      ]
    },
    {
      "cell_type": "code",
      "execution_count": null,
      "metadata": {
        "colab": {
          "base_uri": "https://localhost:8080/"
        },
        "id": "MZeQHz7tR4X2",
        "outputId": "1d572490-5144-4dcd-840e-9a916b7c469a"
      },
      "outputs": [
        {
          "output_type": "stream",
          "name": "stdout",
          "text": [
            "+--------------------+--------------------+----------+\n",
            "|      processed_text|         words_clean|word_count|\n",
            "+--------------------+--------------------+----------+\n",
            "|the areolate orie...|[thailand, watten...|       325|\n",
            "|pseudoxanthoma el...|[eight, household...|       236|\n",
            "|early biotechnolo...|[protein, develop...|       222|\n",
            "|conditioned respo...|[arising, name, a...|       221|\n",
            "|a common goal of ...|[protein, ionexch...|       212|\n",
            "|the argasid tick ...|[protein, develop...|       210|\n",
            "|antipatharians co...|[development, app...|       209|\n",
            "|we shall open our...|[still, developme...|       208|\n",
            "|electronic patien...|[level, retrieval...|       207|\n",
            "|the criminal just...|[regime, protein,...|       205|\n",
            "+--------------------+--------------------+----------+\n",
            "only showing top 10 rows\n",
            "\n",
            "time: 59.7 s (started: 2023-03-01 16:16:26 +00:00)\n"
          ]
        }
      ],
      "source": [
        "# Count on Groupped Data\n",
        "Study_data.orderBy(desc(\"word_count\")).show(10)"
      ]
    },
    {
      "cell_type": "code",
      "execution_count": null,
      "metadata": {
        "id": "kEkK_tUGbEe9",
        "colab": {
          "base_uri": "https://localhost:8080/"
        },
        "outputId": "f0693c5b-e876-4780-8d97-d66b4cb2633b"
      },
      "outputs": [
        {
          "output_type": "stream",
          "name": "stdout",
          "text": [
            "+--------------------+--------------------+----------+\n",
            "|      processed_text|         words_clean|word_count|\n",
            "+--------------------+--------------------+----------+\n",
            "|                  t0|                [t0]|         1|\n",
            "|             this t0|                [t0]|         1|\n",
            "|          in this t0|                [t0]|         1|\n",
            "|  an experimental t0|  [t0, experimental]|         2|\n",
            "|      in this t0 two|           [two, t0]|         2|\n",
            "|   interventional t0|[t0, interventional]|         2|\n",
            "|this t0 investigated|  [t0, investigated]|         2|\n",
            "|      descriptive t0|   [t0, descriptive]|         2|\n",
            "|       an autopsy t0|       [autopsy, t0]|         2|\n",
            "|  a retrospective t0| [retrospective, t0]|         2|\n",
            "|        agreement t0|     [t0, agreement]|         2|\n",
            "|       caseseries t0|    [t0, caseseries]|         2|\n",
            "|this t0 describre...|[t0, describreatm...|         2|\n",
            "|      clinimetric t0|   [clinimetric, t0]|         2|\n",
            "|      reliability t0|   [t0, reliability]|         2|\n",
            "|       in this t0 al|            [t0, al]|         2|\n",
            "|    a comparative t0|   [t0, comparative]|         2|\n",
            "|      prospective t0|   [prospective, t0]|         2|\n",
            "|       validation t0|    [validation, t0]|         2|\n",
            "|          cadaver t0|       [t0, cadaver]|         2|\n",
            "|      casecontrol t0|   [t0, casecontrol]|         2|\n",
            "|      in this t0 zro|           [zro, t0]|         2|\n",
            "|  the chemical t0 of|      [t0, chemical]|         2|\n",
            "|         this t0 ins|           [t0, ins]|         2|\n",
            "|   in this t0 cuoceo|        [t0, cuoceo]|         2|\n",
            "|    to t0 the dromen|        [t0, dromen]|         2|\n",
            "|in this t0 we hav...|      [t0, employed]|         2|\n",
            "|     a caseseries t0|    [t0, caseseries]|         2|\n",
            "|    psychometrics t0| [t0, psychometrics]|         2|\n",
            "|in this t0 we used a|          [t0, used]|         2|\n",
            "+--------------------+--------------------+----------+\n",
            "only showing top 30 rows\n",
            "\n",
            "time: 2.12 s (started: 2023-03-01 16:17:25 +00:00)\n"
          ]
        }
      ],
      "source": [
        "from pyspark.sql.functions import asc\n",
        "\n",
        "Study_data.orderBy(asc(\"word_count\")).show(30)"
      ]
    },
    {
      "cell_type": "code",
      "execution_count": null,
      "metadata": {
        "id": "U6CsGwUHU8bW",
        "colab": {
          "base_uri": "https://localhost:8080/"
        },
        "outputId": "4343aeac-9955-4918-c0a8-6491628b22ef"
      },
      "outputs": [
        {
          "output_type": "stream",
          "name": "stdout",
          "text": [
            "E: Failed to fetch http://security.ubuntu.com/ubuntu/pool/universe/o/openjdk-8/openjdk-8-jre-headless_8u352-ga-1~20.04_amd64.deb  404  Not Found [IP: 91.189.91.39 80]\n",
            "E: Failed to fetch http://security.ubuntu.com/ubuntu/pool/universe/o/openjdk-8/openjdk-8-jdk-headless_8u352-ga-1~20.04_amd64.deb  404  Not Found [IP: 91.189.91.39 80]\n",
            "E: Unable to fetch some archives, maybe run apt-get update or try with --fix-missing?\n",
            "tar: spark-3.0.3-bin-hadoop3.2.tgz: Cannot open: No such file or directory\n",
            "tar: Error is not recoverable: exiting now\n",
            "time: 9.26 s (started: 2023-03-01 16:17:27 +00:00)\n"
          ]
        }
      ],
      "source": [
        "# install Java8\n",
        "!apt-get install openjdk-8-jdk-headless -qq > /dev/null\n",
        "# download spark3.0.2\n",
        "!wget -q http://apache.osuosl.org/spark/spark-3.0.3/spark-3.0.3-bin-hadoop3.2.tgz\n",
        "\n",
        "# unzip it\n",
        "!tar xf spark-3.0.3-bin-hadoop3.2.tgz\n",
        "# install findspark \n",
        "!pip install -q findspark"
      ]
    },
    {
      "cell_type": "code",
      "execution_count": null,
      "metadata": {
        "id": "rArvrkJ5cwBQ",
        "colab": {
          "base_uri": "https://localhost:8080/"
        },
        "outputId": "0443790d-4b4c-4fcc-cbcf-5e7224c6ad03"
      },
      "outputs": [
        {
          "output_type": "stream",
          "name": "stdout",
          "text": [
            "+--------------------+--------------------+----------+\n",
            "|      processed_text|         words_clean|word_count|\n",
            "+--------------------+--------------------+----------+\n",
            "|a phase iii dosee...|[pain, phase, per...|        18|\n",
            "|a prospective t0 ...|[suspected, quali...|        17|\n",
            "|a prospective cas...|[leprosy, calcula...|        17|\n",
            "|acute pancreatiti...|[oedema, fluid, d...|        19|\n",
            "|agroecological sy...|[systems, prevale...|        16|\n",
            "+--------------------+--------------------+----------+\n",
            "only showing top 5 rows\n",
            "\n",
            "time: 4.95 s (started: 2023-03-01 16:17:37 +00:00)\n"
          ]
        }
      ],
      "source": [
        "# Filtering data based on word count (word count should be greated than 5 and less than 50% of distribution (to avoid outlier and extremly lenghthy Text))\n",
        "\n",
        "Study_data = Study_data.filter((Study_data.word_count > 5) & (Study_data.word_count < Study_data.approxQuantile(\"word_count\", [0.50], 0.25)[0]))\n",
        "Study_data.show(5)\n"
      ]
    },
    {
      "cell_type": "code",
      "execution_count": null,
      "metadata": {
        "id": "Hb_zGHRNeMzb",
        "colab": {
          "base_uri": "https://localhost:8080/"
        },
        "outputId": "17248cbd-f6ac-44be-e5e9-2410f29903b8"
      },
      "outputs": [
        {
          "output_type": "stream",
          "name": "stdout",
          "text": [
            "DataFrame Dimensions : (79006, 3)\n",
            "DataFrame Rows count : 79006\n",
            "DataFrame Columns count : 3\n",
            "time: 2.75 s (started: 2023-03-01 16:17:42 +00:00)\n"
          ]
        }
      ],
      "source": [
        "\n",
        "# Get row count\n",
        "rows = Study_data.count()\n",
        "\n",
        "# Get columns count\n",
        "cols = len(Study_data.columns)\n",
        "\n",
        "print(f\"DataFrame Dimensions : {(rows,cols)}\")\n",
        "print(f\"DataFrame Rows count : {rows}\")\n",
        "print(f\"DataFrame Columns count : {cols}\")"
      ]
    },
    {
      "cell_type": "code",
      "execution_count": null,
      "metadata": {
        "id": "QDv0B62Gdi7E",
        "colab": {
          "base_uri": "https://localhost:8080/"
        },
        "outputId": "78177ce2-4cb6-4cce-84f8-02636884f561"
      },
      "outputs": [
        {
          "output_type": "stream",
          "name": "stdout",
          "text": [
            "time: 168 ms (started: 2023-03-01 16:17:44 +00:00)\n"
          ]
        }
      ],
      "source": [
        "transactionList = Study_data.select('words_clean').rdd.flatMap(lambda x: x)"
      ]
    },
    {
      "cell_type": "code",
      "execution_count": null,
      "metadata": {
        "id": "7MV1I8hzdro5",
        "colab": {
          "base_uri": "https://localhost:8080/"
        },
        "outputId": "2d91c044-3733-4113-adbe-3530ffdfff89"
      },
      "outputs": [
        {
          "output_type": "execute_result",
          "data": {
            "text/plain": [
              "PythonRDD[216] at RDD at PythonRDD.scala:53"
            ]
          },
          "metadata": {},
          "execution_count": 53
        },
        {
          "output_type": "stream",
          "name": "stdout",
          "text": [
            "time: 102 ms (started: 2023-03-01 16:17:45 +00:00)\n"
          ]
        }
      ],
      "source": [
        "transactionList"
      ]
    },
    {
      "cell_type": "code",
      "execution_count": null,
      "metadata": {
        "colab": {
          "base_uri": "https://localhost:8080/"
        },
        "id": "7Zpb087Cdtyr",
        "outputId": "a5061321-310a-4333-9c35-7d99e921e71d"
      },
      "outputs": [
        {
          "output_type": "stream",
          "name": "stdout",
          "text": [
            "+--------------------+--------------------+----------+\n",
            "|      processed_text|         words_clean|word_count|\n",
            "+--------------------+--------------------+----------+\n",
            "|the present t0 ai...|[iran, lymphomas,...|         6|\n",
            "|this t0 examined ...|[turkey, antibiot...|         6|\n",
            "|the present t0 wa...|[evaluate, t0, an...|         6|\n",
            "|to t0 nociceptive...|[headache, t0, no...|         6|\n",
            "|to t0 the chemica...|[naudea, t0, chem...|         6|\n",
            "+--------------------+--------------------+----------+\n",
            "only showing top 5 rows\n",
            "\n",
            "time: 1.91 s (started: 2023-03-01 15:27:46 +00:00)\n"
          ]
        }
      ],
      "source": [
        "from pyspark.sql.functions import asc\n",
        "\n",
        "Study_data.orderBy(asc(\"word_count\")).show(5)"
      ]
    },
    {
      "cell_type": "code",
      "execution_count": null,
      "metadata": {
        "colab": {
          "base_uri": "https://localhost:8080/"
        },
        "id": "in-n3WGGd05r",
        "outputId": "63556d99-85dd-400f-ac80-d4d52b3c2d09"
      },
      "outputs": [
        {
          "output_type": "stream",
          "name": "stdout",
          "text": [
            "+--------------------+--------------------+----------+\n",
            "|      processed_text|         words_clean|word_count|\n",
            "+--------------------+--------------------+----------+\n",
            "|management of lag...|[gel, temporary, ...|        21|\n",
            "|the presence of t...|[ct, presence, in...|        21|\n",
            "|many clinical stu...|[account, determi...|        21|\n",
            "|dexmedetomidine i...|[adjuvant, remain...|        21|\n",
            "|prisoners have he...|[needs, southern,...|        21|\n",
            "|psychological fac...|[control, dimensi...|        21|\n",
            "|the objectives of...|[flow, human, dis...|        21|\n",
            "|tacrolimus is met...|[new, p, cypa, sw...|        21|\n",
            "|friedreich ataxia...|[power, generate,...|        21|\n",
            "|the current t0 ex...|[ed, frequency, e...|        21|\n",
            "+--------------------+--------------------+----------+\n",
            "only showing top 10 rows\n",
            "\n",
            "time: 1.73 s (started: 2023-03-01 15:27:50 +00:00)\n"
          ]
        }
      ],
      "source": [
        "# Count on Groupped Data\n",
        "Study_data.orderBy(desc(\"word_count\")).show(10)"
      ]
    },
    {
      "cell_type": "markdown",
      "metadata": {
        "id": "je2mzPJOLpXG"
      },
      "source": [
        "## FPGrowth Algoritm"
      ]
    },
    {
      "cell_type": "code",
      "execution_count": null,
      "metadata": {
        "colab": {
          "base_uri": "https://localhost:8080/"
        },
        "id": "64EpbTFNap1R",
        "outputId": "850ab503-a0be-477c-f7f6-db96e08eac0d"
      },
      "outputs": [
        {
          "output_type": "stream",
          "name": "stdout",
          "text": [
            "time: 1.19 ms (started: 2023-03-01 15:28:02 +00:00)\n"
          ]
        }
      ],
      "source": [
        "import time\n",
        "from tqdm import tqdm\n",
        "from pyspark.ml.fpm import FPGrowth"
      ]
    },
    {
      "cell_type": "code",
      "execution_count": null,
      "metadata": {
        "colab": {
          "base_uri": "https://localhost:8080/"
        },
        "id": "xQCpGyDDoZpw",
        "outputId": "a3948b82-46fd-4c21-feb1-00dd8dc380c6"
      },
      "outputs": [
        {
          "output_type": "stream",
          "name": "stdout",
          "text": [
            "time: 893 µs (started: 2023-03-01 15:28:02 +00:00)\n"
          ]
        }
      ],
      "source": [
        "from tqdm import tqdm\n",
        "import pandas as pd\n",
        "import numpy as np\n",
        "import time"
      ]
    },
    {
      "cell_type": "code",
      "execution_count": null,
      "metadata": {
        "colab": {
          "base_uri": "https://localhost:8080/"
        },
        "id": "nhqkolqPXZj6",
        "outputId": "1997b4cf-6ced-44ca-8e1d-a2e1240935da"
      },
      "outputs": [
        {
          "output_type": "stream",
          "name": "stdout",
          "text": [
            "time: 960 µs (started: 2023-03-01 15:28:03 +00:00)\n"
          ]
        }
      ],
      "source": [
        "from pyspark.ml.fpm import FPGrowth"
      ]
    },
    {
      "cell_type": "code",
      "execution_count": null,
      "metadata": {
        "colab": {
          "base_uri": "https://localhost:8080/"
        },
        "id": "D43ipxYEVdYl",
        "outputId": "0b87e6b7-9dc7-4369-a77f-d70e8cf8b4f4"
      },
      "outputs": [
        {
          "output_type": "stream",
          "name": "stdout",
          "text": [
            "time: 2.66 s (started: 2023-03-01 15:28:03 +00:00)\n"
          ]
        }
      ],
      "source": []
    },
    {
      "cell_type": "code",
      "execution_count": null,
      "metadata": {
        "colab": {
          "base_uri": "https://localhost:8080/"
        },
        "id": "fgi8Cj8vG-Mf",
        "outputId": "306ede3d-d8b5-46ad-b85c-95575c71d911"
      },
      "outputs": [
        {
          "output_type": "stream",
          "name": "stderr",
          "text": [
            "/usr/local/lib/python3.8/dist-packages/pyspark/sql/context.py:125: FutureWarning: Deprecated in 3.0.0. Use SparkSession.builder.getOrCreate() instead.\n",
            "  warnings.warn(\n"
          ]
        },
        {
          "output_type": "stream",
          "name": "stdout",
          "text": [
            "+--------------------+-----+\n",
            "|               items| freq|\n",
            "+--------------------+-----+\n",
            "|                [t0]|79006|\n",
            "|               [aim]|18029|\n",
            "|           [aim, t0]|18029|\n",
            "|          [patients]|13874|\n",
            "|     [patients, aim]| 3678|\n",
            "| [patients, aim, t0]| 3678|\n",
            "|      [patients, t0]|13874|\n",
            "|           [purpose]|10871|\n",
            "| [purpose, patients]| 1850|\n",
            "|[purpose, patient...| 1850|\n",
            "|       [purpose, t0]|10871|\n",
            "|          [evaluate]| 9971|\n",
            "|[evaluate, patients]| 2131|\n",
            "|[evaluate, patien...| 2131|\n",
            "|     [evaluate, aim]| 3667|\n",
            "| [evaluate, aim, t0]| 3667|\n",
            "| [evaluate, purpose]| 2151|\n",
            "|[evaluate, purpos...| 2151|\n",
            "|      [evaluate, t0]| 9971|\n",
            "|         [determine]| 7547|\n",
            "+--------------------+-----+\n",
            "only showing top 20 rows\n",
            "\n",
            "+--------------------+----------+-------------------+------------------+--------------------+\n",
            "|          antecedent|consequent|         confidence|              lift|             support|\n",
            "+--------------------+----------+-------------------+------------------+--------------------+\n",
            "|              [aims]|      [t0]|                1.0|               1.0|0.028023188112295268|\n",
            "|          [examined]|      [t0]|                1.0|               1.0|0.029174999367136672|\n",
            "|           [factors]|      [t0]|                1.0|               1.0|0.046743285320102274|\n",
            "|[clinical, patients]|      [t0]|                1.0|               1.0| 0.02073260258714528|\n",
            "|        [population]|      [t0]|                1.0|               1.0|0.025238589474217147|\n",
            "|           [whether]|      [t0]|                1.0|               1.0| 0.05755259094246007|\n",
            "|           [therapy]|      [t0]|                1.0|               1.0|0.023048882363364807|\n",
            "|          [evaluate]|[patients]| 0.2137197873834119| 1.217035139254277|0.026972634989747613|\n",
            "|          [evaluate]|     [aim]| 0.3677665229164577|1.6116125081556192|0.046414196390147586|\n",
            "|          [evaluate]| [purpose]|0.21572560425233175|1.5678058218710076| 0.02722578032048199|\n",
            "|          [evaluate]|      [t0]|                1.0|               1.0| 0.12620560463762245|\n",
            "|[evaluate, patients]|      [t0]|                1.0|               1.0|0.026972634989747613|\n",
            "|               [use]|      [t0]|                1.0|               1.0| 0.03775662607903197|\n",
            "|            [assess]|     [aim]| 0.3619402985074627|1.5860810485262962|0.024555097081234337|\n",
            "|            [assess]|      [t0]|                1.0|               1.0|  0.0678429486368124|\n",
            "|           [examine]|      [t0]|                1.0|               1.0| 0.04443966281041946|\n",
            "|         [incidence]|      [t0]|                1.0|               1.0|0.020884489785585904|\n",
            "|          [patients]|     [aim]|0.26510018740089375|1.1617119865658112| 0.04655342632205149|\n",
            "|          [patients]|      [t0]|                1.0|               1.0| 0.17560691593043568|\n",
            "|          [patients]| [purpose]|0.13334294363557733|0.9690822007977575| 0.02341594309292965|\n",
            "+--------------------+----------+-------------------+------------------+--------------------+\n",
            "only showing top 20 rows\n",
            "\n",
            "+--------------------+--------------------+----------+--------------------+\n",
            "|      processed_text|         words_clean|word_count|          prediction|\n",
            "+--------------------+--------------------+----------+--------------------+\n",
            "|a phase iii dosee...|[pain, phase, per...|        18|[aim, purpose, cl...|\n",
            "|a prospective t0 ...|[suspected, quali...|        17|[aim, purpose, ev...|\n",
            "|a prospective cas...|[leprosy, calcula...|        17|[aim, purpose, ev...|\n",
            "|acute pancreatiti...|[oedema, fluid, d...|        19|[aim, patients, p...|\n",
            "|agroecological sy...|[systems, prevale...|        16|[aim, patients, p...|\n",
            "|aim of this t0 wa...|[employment, cabg...|        18|[purpose, clinica...|\n",
            "|although most wou...|[rigorously, bett...|        17|[patients, evalua...|\n",
            "|an experimental s...|[yashada, strepto...|        16|[patients, aim, p...|\n",
            "|an in vitro t0 wa...|[citric, evaluate...|        18|[patients, aim, p...|\n",
            "|an in vitro biome...|[biomechanical, t...|         9|[aim, patients, p...|\n",
            "|as little is know...|[older, latin, li...|        19|[aim, patients, p...|\n",
            "|cardiac mri has b...|[children, charac...|        15|[aim, patients, p...|\n",
            "|chronic ischemic ...|[poorly, repair, ...|        16|[aim, patients, p...|\n",
            "|connexin cx is cr...|[crucial, cells, ...|        21|[aim, patients, p...|\n",
            "|control of gait a...|[limbsaving, seri...|         7|[aim, patients, p...|\n",
            "|current training ...|[united, environm...|        19|[aim, patients, p...|\n",
            "|data on the pheno...|[chinese, longter...|        17|[aim, evaluate, d...|\n",
            "|dexmedetomidine i...|[adjuvant, remain...|        21|[aim, purpose, ev...|\n",
            "|diabetes mellitus...|[human, control, ...|        20|[aim, patients, p...|\n",
            "|during contact le...|[surface, protein...|        17|[aim, patients, p...|\n",
            "+--------------------+--------------------+----------+--------------------+\n",
            "only showing top 20 rows\n",
            "\n",
            "time: 1min 12s (started: 2023-03-01 15:28:06 +00:00)\n"
          ]
        }
      ],
      "source": [
        "#Frequent Pattern Growth – FP Growth is a method of mining frequent itemsets using support, lift, and confidence.\n",
        "fpGrowth = FPGrowth(itemsCol=\"words_clean\", minSupport=0.02, minConfidence=0.02)\n",
        "model = fpGrowth.fit(Study_data)\n",
        "# Display frequent itemsets.\n",
        "model.freqItemsets.show()\n",
        "items = model.freqItemsets\n",
        "# Display generated association rules.\n",
        "model.associationRules.show()\n",
        "rules = model.associationRules\n",
        "# transform examines the input items against all the association rules and summarize the consequents as prediction\n",
        "model.transform(Study_data).show()\n",
        "transformed = model.transform(Study_data)"
      ]
    }
  ],
  "metadata": {
    "colab": {
      "provenance": [],
      "toc_visible": true,
      "authorship_tag": "ABX9TyM98Sm1zbTSOTaDMSqMs8O1",
      "include_colab_link": true
    },
    "kernelspec": {
      "display_name": "Python 3",
      "name": "python3"
    },
    "language_info": {
      "name": "python"
    }
  },
  "nbformat": 4,
  "nbformat_minor": 0
}